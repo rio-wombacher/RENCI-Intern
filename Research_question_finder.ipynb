{
 "cells": [
  {
   "cell_type": "code",
   "execution_count": 2,
   "metadata": {},
   "outputs": [],
   "source": [
    "# retrieve PMID articles using keyword(s)\n",
    "#  reference resource: https://www.kaggle.com/code/binitagiri/extract-data-from-pubmed-using-python"
   ]
  },
  {
   "cell_type": "code",
   "execution_count": 3,
   "metadata": {},
   "outputs": [
    {
     "name": "stdout",
     "output_type": "stream",
     "text": [
      "Requirement already satisfied: metapub in ./opt/anaconda3/lib/python3.8/site-packages (0.5.5)\n",
      "Requirement already satisfied: unidecode in ./opt/anaconda3/lib/python3.8/site-packages (from metapub) (1.3.4)\n",
      "Requirement already satisfied: lxml in ./opt/anaconda3/lib/python3.8/site-packages (from metapub) (4.6.1)\n",
      "Requirement already satisfied: requests in ./opt/anaconda3/lib/python3.8/site-packages (from metapub) (2.24.0)\n",
      "Requirement already satisfied: cssselect in ./opt/anaconda3/lib/python3.8/site-packages (from metapub) (1.2.0)\n",
      "Requirement already satisfied: docopt in ./opt/anaconda3/lib/python3.8/site-packages (from metapub) (0.6.2)\n",
      "Requirement already satisfied: setuptools in ./opt/anaconda3/lib/python3.8/site-packages (from metapub) (50.3.1.post20201107)\n",
      "Requirement already satisfied: six in ./opt/anaconda3/lib/python3.8/site-packages (from metapub) (1.15.0)\n",
      "Requirement already satisfied: habanero in ./opt/anaconda3/lib/python3.8/site-packages (from metapub) (1.2.3)\n",
      "Requirement already satisfied: tox in ./opt/anaconda3/lib/python3.8/site-packages (from metapub) (3.28.0)\n",
      "Requirement already satisfied: pytest in ./opt/anaconda3/lib/python3.8/site-packages (from metapub) (0.0.0)\n",
      "Requirement already satisfied: eutils in ./opt/anaconda3/lib/python3.8/site-packages (from metapub) (0.6.0)\n",
      "Requirement already satisfied: coloredlogs in ./opt/anaconda3/lib/python3.8/site-packages (from metapub) (15.0.1)\n",
      "Requirement already satisfied: python-Levenshtein in ./opt/anaconda3/lib/python3.8/site-packages (from metapub) (0.20.9)\n",
      "Requirement already satisfied: tabulate in ./opt/anaconda3/lib/python3.8/site-packages (from metapub) (0.8.10)\n",
      "Requirement already satisfied: humanfriendly>=9.1 in ./opt/anaconda3/lib/python3.8/site-packages (from coloredlogs->metapub) (10.0)\n",
      "Requirement already satisfied: pytz in ./opt/anaconda3/lib/python3.8/site-packages (from eutils->metapub) (2020.1)\n",
      "Requirement already satisfied: tqdm in ./opt/anaconda3/lib/python3.8/site-packages (from habanero->metapub) (4.50.2)\n",
      "Requirement already satisfied: urllib3!=1.25.0,!=1.25.1,<1.26,>=1.21.1 in ./opt/anaconda3/lib/python3.8/site-packages (from requests->metapub) (1.25.11)\n",
      "Requirement already satisfied: certifi>=2017.4.17 in ./opt/anaconda3/lib/python3.8/site-packages (from requests->metapub) (2020.6.20)\n",
      "Requirement already satisfied: chardet<4,>=3.0.2 in ./opt/anaconda3/lib/python3.8/site-packages (from requests->metapub) (3.0.4)\n",
      "Requirement already satisfied: idna<3,>=2.5 in ./opt/anaconda3/lib/python3.8/site-packages (from requests->metapub) (2.10)\n",
      "Requirement already satisfied: attrs>=17.4.0 in ./opt/anaconda3/lib/python3.8/site-packages (from pytest->metapub) (20.3.0)\n",
      "Requirement already satisfied: iniconfig in ./opt/anaconda3/lib/python3.8/site-packages (from pytest->metapub) (1.1.1)\n",
      "Requirement already satisfied: packaging in ./opt/anaconda3/lib/python3.8/site-packages (from pytest->metapub) (20.4)\n",
      "Requirement already satisfied: pluggy<1.0,>=0.12 in ./opt/anaconda3/lib/python3.8/site-packages (from pytest->metapub) (0.13.1)\n",
      "Requirement already satisfied: py>=1.8.2 in ./opt/anaconda3/lib/python3.8/site-packages (from pytest->metapub) (1.9.0)\n",
      "Requirement already satisfied: toml in ./opt/anaconda3/lib/python3.8/site-packages (from pytest->metapub) (0.10.1)\n",
      "Requirement already satisfied: Levenshtein==0.20.9 in ./opt/anaconda3/lib/python3.8/site-packages (from python-Levenshtein->metapub) (0.20.9)\n",
      "Requirement already satisfied: rapidfuzz<3.0.0,>=2.3.0 in ./opt/anaconda3/lib/python3.8/site-packages (from Levenshtein==0.20.9->python-Levenshtein->metapub) (2.13.7)\n",
      "Requirement already satisfied: tomli>=2.0.1 in ./opt/anaconda3/lib/python3.8/site-packages (from tox->metapub) (2.0.1)\n",
      "Requirement already satisfied: filelock>=3.0.0 in ./opt/anaconda3/lib/python3.8/site-packages (from tox->metapub) (3.9.0)\n",
      "Requirement already satisfied: virtualenv!=20.0.0,!=20.0.1,!=20.0.2,!=20.0.3,!=20.0.4,!=20.0.5,!=20.0.6,!=20.0.7,>=16.0.0 in ./opt/anaconda3/lib/python3.8/site-packages (from tox->metapub) (20.17.1)\n",
      "Requirement already satisfied: pyparsing>=2.0.2 in ./opt/anaconda3/lib/python3.8/site-packages (from packaging->pytest->metapub) (2.4.7)\n",
      "Requirement already satisfied: distlib<1,>=0.3.6 in ./opt/anaconda3/lib/python3.8/site-packages (from virtualenv!=20.0.0,!=20.0.1,!=20.0.2,!=20.0.3,!=20.0.4,!=20.0.5,!=20.0.6,!=20.0.7,>=16.0.0->tox->metapub) (0.3.6)\n",
      "Requirement already satisfied: platformdirs<3,>=2.4 in ./opt/anaconda3/lib/python3.8/site-packages (from virtualenv!=20.0.0,!=20.0.1,!=20.0.2,!=20.0.3,!=20.0.4,!=20.0.5,!=20.0.6,!=20.0.7,>=16.0.0->tox->metapub) (2.6.2)\n",
      "\n",
      "\u001b[1m[\u001b[0m\u001b[34;49mnotice\u001b[0m\u001b[1;39;49m]\u001b[0m\u001b[39;49m A new release of pip available: \u001b[0m\u001b[31;49m22.2.2\u001b[0m\u001b[39;49m -> \u001b[0m\u001b[32;49m23.0\u001b[0m\n",
      "\u001b[1m[\u001b[0m\u001b[34;49mnotice\u001b[0m\u001b[1;39;49m]\u001b[0m\u001b[39;49m To update, run: \u001b[0m\u001b[32;49mpip install --upgrade pip\u001b[0m\n",
      "Note: you may need to restart the kernel to use updated packages.\n"
     ]
    }
   ],
   "source": [
    "pip install metapub"
   ]
  },
  {
   "cell_type": "code",
   "execution_count": 4,
   "metadata": {},
   "outputs": [],
   "source": [
    "import os\n",
    "os.environ[\"NCBI_API_KEY\"] = '7e2310a65401cdf4d5023cda2467c19de708'"
   ]
  },
  {
   "cell_type": "code",
   "execution_count": 5,
   "metadata": {},
   "outputs": [],
   "source": [
    "import pandas as pd\n",
    "from metapub import PubMedFetcher\n",
    "fetch = PubMedFetcher()\n",
    "from functools import reduce\n",
    "\n",
    "abstracts = []\n",
    "authors = []\n",
    "journals = []\n",
    "titles = []\n",
    "years = []\n",
    "\n",
    "def collect_articles(keyword, numbers_of_article):\n",
    "    pmids = fetch.pmids_for_query(keyword, numbers=numbers_of_article)\n",
    "\n",
    "    for pmid in pmids:\n",
    "        abstracts[pmid] = fetch.article_by_pmid(pmid).abstract\n",
    "        authors[pmid] = fetch.article_by_pmid(pmid).authors\n",
    "        journals[pmid] = fetch.article_by_pmid(pmid).journal\n",
    "        titles[pmid] = fetch.article_by_pmid(pmid).title\n",
    "        years[pmid] = fetch.article_by_pmid(pmid).year\n",
    "\n",
    "    Abstract = pd.DataFrame(list(abstracts.items()),columns = ['pmid', 'Abstract'])\n",
    "    Author = pd.DataFrame(list(authors.items()),columns = ['pmid', 'Author'])\n",
    "    Journal = pd.DataFrame(list(journals.items()),columns = ['pmid', 'Journal'])\n",
    "    Title = pd.DataFrame(list(titles.items()),columns = ['pmid', 'Title'])\n",
    "    Year = pd.DataFrame(list(years.items()),columns = ['pmid', 'Year'])\n",
    "\n",
    "    data_frames = [Title, Author, Year, Journal, Abstract]\n",
    "    df_merged = reduce(lambda left, right: pd.merge(left, right, on=['pmid'], how='outer'), data_frames)\n",
    "\n",
    "    del Abstract\n",
    "    del Author\n",
    "    del Journal\n",
    "    del Title\n",
    "    del Year\n",
    "    del data_frames\n",
    "\n",
    "    return df_merged"
   ]
  },
  {
   "cell_type": "code",
   "execution_count": 6,
   "metadata": {},
   "outputs": [
    {
     "ename": "TypeError",
     "evalue": "list indices must be integers or slices, not str",
     "output_type": "error",
     "traceback": [
      "\u001b[0;31m---------------------------------------------------------------------------\u001b[0m",
      "\u001b[0;31mTypeError\u001b[0m                                 Traceback (most recent call last)",
      "\u001b[0;32m<ipython-input-6-ce878dc266dc>\u001b[0m in \u001b[0;36m<module>\u001b[0;34m\u001b[0m\n\u001b[1;32m      1\u001b[0m \u001b[0;31m# extract some articles related to the given string\u001b[0m\u001b[0;34m\u001b[0m\u001b[0;34m\u001b[0m\u001b[0;34m\u001b[0m\u001b[0m\n\u001b[0;32m----> 2\u001b[0;31m \u001b[0mdata\u001b[0m \u001b[0;34m=\u001b[0m \u001b[0mcollect_articles\u001b[0m\u001b[0;34m(\u001b[0m\u001b[0;34m'Hepatitus B Virus'\u001b[0m\u001b[0;34m,\u001b[0m \u001b[0;36m20\u001b[0m\u001b[0;34m)\u001b[0m\u001b[0;34m\u001b[0m\u001b[0;34m\u001b[0m\u001b[0m\n\u001b[0m\u001b[1;32m      3\u001b[0m \u001b[0mdata\u001b[0m\u001b[0;34m.\u001b[0m\u001b[0mhead\u001b[0m\u001b[0;34m(\u001b[0m\u001b[0;36m10\u001b[0m\u001b[0;34m)\u001b[0m\u001b[0;34m\u001b[0m\u001b[0;34m\u001b[0m\u001b[0m\n",
      "\u001b[0;32m<ipython-input-5-ee943c68a148>\u001b[0m in \u001b[0;36mcollect_articles\u001b[0;34m(keyword, numbers_of_article)\u001b[0m\n\u001b[1;32m     14\u001b[0m \u001b[0;34m\u001b[0m\u001b[0m\n\u001b[1;32m     15\u001b[0m     \u001b[0;32mfor\u001b[0m \u001b[0mpmid\u001b[0m \u001b[0;32min\u001b[0m \u001b[0mpmids\u001b[0m\u001b[0;34m:\u001b[0m\u001b[0;34m\u001b[0m\u001b[0;34m\u001b[0m\u001b[0m\n\u001b[0;32m---> 16\u001b[0;31m         \u001b[0mabstracts\u001b[0m\u001b[0;34m[\u001b[0m\u001b[0mpmid\u001b[0m\u001b[0;34m]\u001b[0m \u001b[0;34m=\u001b[0m \u001b[0mfetch\u001b[0m\u001b[0;34m.\u001b[0m\u001b[0marticle_by_pmid\u001b[0m\u001b[0;34m(\u001b[0m\u001b[0mpmid\u001b[0m\u001b[0;34m)\u001b[0m\u001b[0;34m.\u001b[0m\u001b[0mabstract\u001b[0m\u001b[0;34m\u001b[0m\u001b[0;34m\u001b[0m\u001b[0m\n\u001b[0m\u001b[1;32m     17\u001b[0m         \u001b[0mauthors\u001b[0m\u001b[0;34m[\u001b[0m\u001b[0mpmid\u001b[0m\u001b[0;34m]\u001b[0m \u001b[0;34m=\u001b[0m \u001b[0mfetch\u001b[0m\u001b[0;34m.\u001b[0m\u001b[0marticle_by_pmid\u001b[0m\u001b[0;34m(\u001b[0m\u001b[0mpmid\u001b[0m\u001b[0;34m)\u001b[0m\u001b[0;34m.\u001b[0m\u001b[0mauthors\u001b[0m\u001b[0;34m\u001b[0m\u001b[0;34m\u001b[0m\u001b[0m\n\u001b[1;32m     18\u001b[0m         \u001b[0mjournals\u001b[0m\u001b[0;34m[\u001b[0m\u001b[0mpmid\u001b[0m\u001b[0;34m]\u001b[0m \u001b[0;34m=\u001b[0m \u001b[0mfetch\u001b[0m\u001b[0;34m.\u001b[0m\u001b[0marticle_by_pmid\u001b[0m\u001b[0;34m(\u001b[0m\u001b[0mpmid\u001b[0m\u001b[0;34m)\u001b[0m\u001b[0;34m.\u001b[0m\u001b[0mjournal\u001b[0m\u001b[0;34m\u001b[0m\u001b[0;34m\u001b[0m\u001b[0m\n",
      "\u001b[0;31mTypeError\u001b[0m: list indices must be integers or slices, not str"
     ]
    }
   ],
   "source": [
    "# extract some articles related to the given string\n",
    "data = collect_articles('Hepatitus B Virus', 20)\n",
    "data.head(10)"
   ]
  },
  {
   "cell_type": "code",
   "execution_count": 7,
   "metadata": {},
   "outputs": [
    {
     "ename": "IndexError",
     "evalue": "list assignment index out of range",
     "output_type": "error",
     "traceback": [
      "\u001b[0;31m---------------------------------------------------------------------------\u001b[0m",
      "\u001b[0;31mIndexError\u001b[0m                                Traceback (most recent call last)",
      "\u001b[0;32m<ipython-input-7-2c5350aaaf5e>\u001b[0m in \u001b[0;36m<module>\u001b[0;34m\u001b[0m\n\u001b[0;32m----> 1\u001b[0;31m \u001b[0mabstracts\u001b[0m\u001b[0;34m[\u001b[0m\u001b[0;36m1\u001b[0m\u001b[0;34m]\u001b[0m \u001b[0;34m=\u001b[0m \u001b[0mfetch\u001b[0m\u001b[0;34m.\u001b[0m\u001b[0marticle_by_pmid\u001b[0m\u001b[0;34m(\u001b[0m\u001b[0;36m1\u001b[0m\u001b[0;34m)\u001b[0m\u001b[0;34m.\u001b[0m\u001b[0mabstract\u001b[0m\u001b[0;34m\u001b[0m\u001b[0;34m\u001b[0m\u001b[0m\n\u001b[0m",
      "\u001b[0;31mIndexError\u001b[0m: list assignment index out of range"
     ]
    }
   ],
   "source": [
    "abstracts[1] = fetch.article_by_pmid(1).abstract"
   ]
  },
  {
   "cell_type": "code",
   "execution_count": null,
   "metadata": {},
   "outputs": [],
   "source": [
    "#Pull in the Objective as text\n",
    "txt = objective"
   ]
  },
  {
   "cell_type": "code",
   "execution_count": null,
   "metadata": {},
   "outputs": [],
   "source": [
    "for sentence in txt.split('.'):\n",
    "    if [sentence + '.' for sentence in txt.split('.') if 'We sought to' in sentence]:\n",
    "        print(sentence)\n",
    "    elif [sentence + '.' for sentence in txt.split('.') if 'The objective of this paper' in sentence]:\n",
    "        print(sentence)\n",
    "    else:\n",
    "        print(Title)"
   ]
  },
  {
   "cell_type": "code",
   "execution_count": null,
   "metadata": {},
   "outputs": [],
   "source": []
  }
 ],
 "metadata": {
  "kernelspec": {
   "display_name": "Python 3",
   "language": "python",
   "name": "python3"
  },
  "language_info": {
   "codemirror_mode": {
    "name": "ipython",
    "version": 3
   },
   "file_extension": ".py",
   "mimetype": "text/x-python",
   "name": "python",
   "nbconvert_exporter": "python",
   "pygments_lexer": "ipython3",
   "version": "3.8.5"
  }
 },
 "nbformat": 4,
 "nbformat_minor": 4
}
